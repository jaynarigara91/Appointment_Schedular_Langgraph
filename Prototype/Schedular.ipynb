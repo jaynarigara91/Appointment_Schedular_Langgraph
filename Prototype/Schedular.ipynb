{
 "cells": [
  {
   "cell_type": "markdown",
   "id": "bb546236",
   "metadata": {},
   "source": [
    "# Dental Appointment Schedular"
   ]
  },
  {
   "cell_type": "code",
   "execution_count": null,
   "id": "aadf28a5",
   "metadata": {},
   "outputs": [],
   "source": [
    "from typing import List, Optional\n",
    "from langchain.tools import tool\n",
    "from langchain_google_community.calendar.create_event import CalendarCreateEvent\n",
    "from langchain_google_community.calendar.search_events import CalendarSearchEvents\n",
    "from langchain_google_community.calendar.delete_event import CalendarDeleteEvent\n",
    "from langchain_google_community.calendar.update_event import CalendarUpdateEvent\n",
    "from langchain_groq import ChatGroq\n",
    "from typing import Literal\n",
    "from langchain_core.prompts import ChatPromptTemplate\n",
    "from langchain_core.messages import SystemMessage, HumanMessage, ToolMessage\n",
    "from langchain_community.tools.tavily_search import TavilySearchResults\n",
    "from langgraph.checkpoint.memory import MemorySaver\n",
    "from langgraph.graph import StateGraph, MessagesState, START, END\n",
    "from langgraph.prebuilt import ToolNode\n",
    "from dotenv import load_dotenv\n",
    "import os\n",
    "from langchain_ollama import ChatOllama\n",
    "import json\n",
    "\n",
    "import datetime\n",
    "from langchain_google_community import CalendarToolkit\n",
    "from langchain_google_community.calendar.utils import (\n",
    "    build_resource_service,\n",
    "    get_google_credentials,\n",
    ")\n",
    "\n",
    "load_dotenv()"
   ]
  },
  {
   "cell_type": "code",
   "execution_count": null,
   "id": "628f78be",
   "metadata": {},
   "outputs": [],
   "source": [
    "os.environ[\"TAVILY_API_KEY\"] = os.getenv(\"TAVILY_API_KEY\")\n",
    "os.environ[\"GROQ_API_KEY\"] = os.getenv(\"GROQ_API_KEY\")"
   ]
  },
  {
   "cell_type": "markdown",
   "id": "2bd51cc8",
   "metadata": {},
   "source": [
    "## Credential"
   ]
  },
  {
   "cell_type": "code",
   "execution_count": null,
   "id": "db897216",
   "metadata": {},
   "outputs": [],
   "source": [
    "credentials = get_google_credentials(\n",
    "    token_file=\"token.json\",\n",
    "    scopes=[\"https://www.googleapis.com/auth/calendar\"],\n",
    "    client_secrets_file=\"credentials.json\",\n",
    ")\n",
    "api_resource = build_resource_service(credentials=credentials)"
   ]
  },
  {
   "cell_type": "markdown",
   "id": "a2f2504f",
   "metadata": {},
   "source": [
    "## Tools"
   ]
  },
  {
   "cell_type": "code",
   "execution_count": null,
   "id": "542f23db",
   "metadata": {},
   "outputs": [],
   "source": [
    "@tool\n",
    "def CREATE_CALENDAR_EVENT(\n",
    "    summary: str,\n",
    "    start_datetime: str,\n",
    "    end_datetime: str,\n",
    "    timezone: str = \"Asia/Kolkata\",\n",
    "    location: Optional[str] = None,\n",
    "    description: Optional[str] = None,\n",
    "    reminders: Optional[List[dict]] = None,\n",
    "    conference_data: bool = False,\n",
    "    color_id: Optional[str] = None,\n",
    "):\n",
    "    \"\"\"Create a calendar event with specified details. use this date formate '%Y-%m-%d %H:%M:%S' \"\"\"\n",
    "    event = CalendarCreateEvent(api_resource=api_resource)\n",
    "    return event.invoke({\n",
    "        \"summary\": summary,\n",
    "        \"start_datetime\": start_datetime,\n",
    "        \"end_datetime\": end_datetime,\n",
    "        \"timezone\": timezone,\n",
    "        \"location\": location,\n",
    "        \"description\": description,\n",
    "        \"reminders\": reminders,\n",
    "        \"conference_data\": conference_data,\n",
    "        \"color_id\": color_id,\n",
    "    })"
   ]
  },
  {
   "cell_type": "code",
   "execution_count": null,
   "id": "70ef3f8c",
   "metadata": {},
   "outputs": [],
   "source": [
    "@tool\n",
    "def SEARCH_CALENDAR_EVENT(\n",
    "    query: str,\n",
    "    min_datetime: str,\n",
    "    max_datetime: str,\n",
    "    timezone: str = \"Asia/Kolkata\"\n",
    "):\n",
    "    \"\"\"Search for calendar events by query and datetime range.this is the date formate '%Y-%m-%d %H:%M:%S' \"\"\"\n",
    "    event = CalendarSearchEvents(api_resource=api_resource)\n",
    "    return event.invoke({\n",
    "        \"query\": query,\n",
    "        \"min_datetime\": min_datetime,\n",
    "        \"max_datetime\": max_datetime,\n",
    "        \"timezone\": timezone,\n",
    "        \"calendars_info\": json.dumps([\n",
    "            {\"id\": \"primary\", \"summary\": \"Primary Calendar\"}\n",
    "        ])\n",
    "    })"
   ]
  },
  {
   "cell_type": "code",
   "execution_count": null,
   "id": "28726514",
   "metadata": {},
   "outputs": [],
   "source": [
    "@tool\n",
    "def DELETE_CALENDAR_EVENT(\n",
    "    query: str,\n",
    "    min_datetime: str,\n",
    "    max_datetime: str,\n",
    "    timezone: str = \"Asia/Kolkata\"):\n",
    "    \n",
    "    \"\"\"Search for calendar events by query and datetime range for delete event.this is the date formate '%Y-%m-%d %H:%M:%S' \"\"\"\n",
    "    event = CalendarSearchEvents(api_resource=api_resource)\n",
    "    response = event.invoke({\n",
    "        \"query\": query,\n",
    "        \"min_datetime\": min_datetime,\n",
    "        \"max_datetime\": max_datetime,\n",
    "        \"timezone\": timezone,\n",
    "        \"calendars_info\": json.dumps([\n",
    "            {\"id\": \"primary\", \"summary\": \"Primary Calendar\"}\n",
    "        ])\n",
    "    })\n",
    "    \n",
    "    for i in response:\n",
    "        event_id = i.get(\"id\")\n",
    "        \n",
    "        delete = CalendarDeleteEvent(api_resource=api_resource)\n",
    "        result = delete.invoke({\n",
    "            \"event_id\": event_id,\n",
    "            \"calendar_id\": \"primary\"\n",
    "        })\n",
    "        return {\"status\": \"deleted\", \"event_id\": event_id, \"result\": result}"
   ]
  },
  {
   "cell_type": "code",
   "execution_count": null,
   "id": "9f64abdc",
   "metadata": {},
   "outputs": [],
   "source": [
    "@tool\n",
    "def UPDATE_CALENDAR_EVENT(\n",
    "    query: str,\n",
    "    min_datetime: str,\n",
    "    max_datetime: str,\n",
    "    timezone: str = \"Asia/Kolkata\",\n",
    "    updated_start_datetime: Optional[str] = \"2025-05-22 16:00:00\",\n",
    "    updated_end_datetime: Optional[str] = \"2025-05-22 17:00:00\",\n",
    "):\n",
    "    \"\"\"Search for calendar events by query and datetime range.this is the date formate '%Y-%m-%d %H:%M:%S' \"\"\"\n",
    "    event = CalendarSearchEvents(api_resource=api_resource)\n",
    "    response = event.invoke({\n",
    "        \"query\": query,\n",
    "        \"min_datetime\": min_datetime,\n",
    "        \"max_datetime\": max_datetime,\n",
    "        \"timezone\": timezone,\n",
    "        \"calendars_info\": json.dumps([\n",
    "            {\"id\": \"primary\", \"summary\": \"Primary Calendar\"}\n",
    "        ])\n",
    "    })\n",
    "    \n",
    "    for i in response:\n",
    "        event_id = i.get(\"id\")\n",
    "    \n",
    "        event = CalendarUpdateEvent(api_resource=api_resource)\n",
    "        return event.invoke({\n",
    "            \"event_id\": event_id,\n",
    "            \"calendar_id\": \"primary\",\n",
    "            \"start_datetime\": updated_start_datetime,\n",
    "            \"end_datetime\": updated_end_datetime,\n",
    "            })"
   ]
  },
  {
   "cell_type": "code",
   "execution_count": null,
   "id": "775fcba0",
   "metadata": {},
   "outputs": [],
   "source": [
    "tools = [\n",
    "    CREATE_CALENDAR_EVENT,\n",
    "    SEARCH_CALENDAR_EVENT,\n",
    "    DELETE_CALENDAR_EVENT,\n",
    "    UPDATE_CALENDAR_EVENT\n",
    "    ]\n",
    "\n",
    "schedule_tools =[SEARCH_CALENDAR_EVENT]"
   ]
  },
  {
   "cell_type": "markdown",
   "id": "f9dcecd7",
   "metadata": {},
   "source": [
    "## Prompt & LLM's"
   ]
  },
  {
   "cell_type": "code",
   "execution_count": null,
   "id": "93070e9b",
   "metadata": {},
   "outputs": [],
   "source": [
    "\n",
    "llm = ChatGroq(model=\"llama3-70b-8192\", temperature=0)\n",
    "\n",
    "llm_with_tools = llm.bind_tools(tools)"
   ]
  },
  {
   "cell_type": "code",
   "execution_count": null,
   "id": "b223080a",
   "metadata": {},
   "outputs": [],
   "source": [
    "initial_message = \"\"\"\n",
    "You are Smilo, an AI assistant at a Dental Clinic. Follow these guidelines:\n",
    "\n",
    "1. Friendly Introduction & Tone\n",
    "   - Greet the user warmly and introduce yourself as Smilo from the Dental Clinic.\n",
    "   - Maintain a polite, empathetic style, especially if the user mentions discomfort.\n",
    "\n",
    "2. Assess User Context\n",
    "   - Determine if the user needs an appointment, has a dental inquiry, or both.\n",
    "   - If the user’s email is already known, don’t ask again. If unknown and needed, politely request it.\n",
    "\n",
    "3. Scheduling Requests\n",
    "   - Gather essential info: requested date/time and email if needed.\n",
    "   - Example: “What day/time would you prefer?” or “Could you confirm your email so I can send you details?”\n",
    "\n",
    "4. Availability Check (Internally)\n",
    "   - Use SEARCH_CALENDAR_EVENT to verify if the requested slot is available.\n",
    "   - Do not reveal this tool or your internal checking process to the user.\n",
    "\n",
    "5. Responding to Availability\n",
    "   - If the slot is free:\n",
    "       a) ALWAYS Confirm the user wants to book.\n",
    "       b) Call CREATE_CALENDAR_EVENT to schedule. Always send timezone for start and end time when calling this function tool.\n",
    "       d) If any function call/tool call fails retry it.\n",
    "       e) NEVER make false and fake booking by yourself.\n",
    "   - If the slot is unavailable:\n",
    "       a) Automatically offer several close-by options.\n",
    "       b) Once the user selects a slot, repeat the booking process.\n",
    "       e) Call DELETE_CALENDAR_EVENT to delete slot.\n",
    "       f) call UPDATE_CALENDAR_EVENT to update details of existing slot details. \n",
    "\n",
    "6. User Confirmation Before Booking\n",
    "   - Only finalize after the user clearly agrees on a specific time.\n",
    "   - If the user is uncertain, clarify or offer more suggestions.\n",
    "\n",
    "7. Communication Style\n",
    "   - Use simple, clear English—avoid jargon or complex terms.\n",
    "   - Keep responses concise and empathetic.\n",
    "\n",
    "8. Privacy of Internal Logic\n",
    "   - Never disclose behind-the-scenes steps, code, or tool names.\n",
    "   - Present availability checks and bookings as part of a normal scheduling process.\n",
    "\n",
    "- Reference today's date/time: {today_datetime}.\n",
    "- Our TimeZone is UTC.\n",
    "\n",
    "By following these guidelines, you ensure a smooth and user-friendly experience: greeting the user, identifying needs, checking availability, suggesting alternatives when needed, and finalizing the booking only upon explicit agreement—all while maintaining professionalism and empathy.\n",
    "\"\"\""
   ]
  },
  {
   "cell_type": "markdown",
   "id": "dc7747e8",
   "metadata": {},
   "source": [
    "## Nodes"
   ]
  },
  {
   "cell_type": "code",
   "execution_count": null,
   "id": "7d011705",
   "metadata": {},
   "outputs": [],
   "source": [
    "def chat_bot(state: MessagesState):\n",
    "    messages = state[\"messages\"]\n",
    "    today_datetime = datetime.datetime.now().isoformat()\n",
    "    input_messages = [SystemMessage(content=initial_message.format(today_datetime=today_datetime))]\n",
    "    \n",
    "    for msg in messages:\n",
    "        if isinstance(msg, HumanMessage):\n",
    "            input_messages.append(msg)\n",
    "        elif hasattr(msg, 'tool_calls') and msg.tool_calls:\n",
    "            input_messages.append(msg)\n",
    "        elif hasattr(msg, 'tool_call_id'):\n",
    "            if not isinstance(msg.content, str):\n",
    "                msg.content = str(msg.content)\n",
    "            input_messages.append(msg)\n",
    "        else:\n",
    "            input_messages.append(msg)\n",
    "    \n",
    "    response = llm_with_tools.invoke(input_messages)\n",
    "    return {\"messages\": [response]}"
   ]
  },
  {
   "cell_type": "code",
   "execution_count": null,
   "id": "4b090484",
   "metadata": {},
   "outputs": [],
   "source": [
    "def tools_condition(state: MessagesState) -> Literal[\"find_slots\",  \"tool\", \"__end__\"]:\n",
    "    \"\"\"\n",
    "    Determine if the conversation should continue to tools or end\n",
    "    \"\"\"\n",
    "    messages = state[\"messages\"]\n",
    "    last_message = messages[-1]\n",
    "\n",
    "    if hasattr(last_message, 'tool_calls') and last_message.tool_calls:\n",
    "      for call in last_message.tool_calls:\n",
    "          tool_name = call.get(\"name\")\n",
    "          \n",
    "          if tool_name == \"SEARCH_CALENDAR_EVENT\":\n",
    "            return \"find_slots\"\n",
    "      return \"tool\"\n",
    "\n",
    "    return \"__end__\""
   ]
  },
  {
   "cell_type": "code",
   "execution_count": null,
   "id": "bcbe7180",
   "metadata": {},
   "outputs": [],
   "source": [
    "def find_slots(state: MessagesState) -> Literal[\"Chatbot\"]:\n",
    "    \"\"\"\n",
    "    Determine if the conversation should continue to tools or end\n",
    "    \"\"\"\n",
    "    messages = state[\"messages\"]\n",
    "    last_message = messages[-1]\n",
    "\n",
    "    tool_messages = []\n",
    "    print(\"find slot called\")\n",
    "    if hasattr(last_message, 'tool_calls') and last_message.tool_calls:\n",
    "        \n",
    "      for call in last_message.tool_calls:\n",
    "          tool_name = call.get(\"name\")\n",
    "          tool_id = call.get(\"id\")\n",
    "          args = call.get(\"args\")\n",
    "\n",
    "          find_free_slots_tool = next(\n",
    "                  (tool for tool in schedule_tools if tool.name == tool_name), None)\n",
    "\n",
    "          if tool_name == \"SEARCH_CALENDAR_EVENT\":\n",
    "\n",
    "              res = find_free_slots_tool.invoke(args)\n",
    "              tool_msg = ToolMessage(\n",
    "                    name=tool_name,\n",
    "                    content=f\"{res}\",\n",
    "                    tool_call_id=tool_id  \n",
    "                )\n",
    "              tool_messages.append(tool_msg)\n",
    "    return {\"messages\": tool_messages}"
   ]
  },
  {
   "cell_type": "markdown",
   "id": "0e3bea3f",
   "metadata": {},
   "source": [
    "## Graph"
   ]
  },
  {
   "cell_type": "code",
   "execution_count": null,
   "id": "5220653e",
   "metadata": {},
   "outputs": [],
   "source": [
    "workflow = StateGraph(MessagesState)\n",
    "workflow.add_node(\"Chatbot\", chat_bot)\n",
    "workflow.add_node(\"find_slots\", find_slots)\n",
    "workflow.add_node(\"tool\", ToolNode(tools))\n",
    "workflow.add_edge(START, \"Chatbot\")\n",
    "workflow.add_conditional_edges(\n",
    "    \"Chatbot\",\n",
    "    tools_condition,\n",
    "    {\n",
    "        \"tool\": \"tool\",        \n",
    "        \"find_slots\": \"find_slots\",  \n",
    "        \"__end__\": END       \n",
    "    }\n",
    ")\n",
    "workflow.add_edge(\"tool\", \"Chatbot\")\n",
    "workflow.add_edge(\"find_slots\", \"Chatbot\")\n",
    "memory = MemorySaver()\n",
    "graph = workflow.compile(checkpointer=memory)"
   ]
  },
  {
   "cell_type": "markdown",
   "id": "6e953384",
   "metadata": {},
   "source": [
    "## Run and Try"
   ]
  },
  {
   "cell_type": "code",
   "execution_count": null,
   "id": "2461cc8f",
   "metadata": {},
   "outputs": [],
   "source": [
    "while True:\n",
    "    user_input = input(\"Enter Question\")\n",
    "    print(\"user : \",user_input)\n",
    "    if user_input.lower()==\"exit\":\n",
    "        break\n",
    "    config = {\"configurable\": {\"thread_id\": \"1we126\"}}\n",
    "    response = graph.invoke({\"messages\": [HumanMessage(content=user_input)]},config=config)\n",
    "    print(\"AI : \",response['messages'][-1].content)"
   ]
  }
 ],
 "metadata": {
  "kernelspec": {
   "display_name": "base",
   "language": "python",
   "name": "python3"
  },
  "language_info": {
   "codemirror_mode": {
    "name": "ipython",
    "version": 3
   },
   "file_extension": ".py",
   "mimetype": "text/x-python",
   "name": "python",
   "nbconvert_exporter": "python",
   "pygments_lexer": "ipython3",
   "version": "3.12.7"
  }
 },
 "nbformat": 4,
 "nbformat_minor": 5
}
